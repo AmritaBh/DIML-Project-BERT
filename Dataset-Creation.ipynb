{
 "cells": [
  {
   "cell_type": "code",
   "execution_count": 1,
   "id": "7cf110c8",
   "metadata": {},
   "outputs": [],
   "source": [
    "import pandas as pd"
   ]
  },
  {
   "cell_type": "code",
   "execution_count": 5,
   "id": "e79ebada",
   "metadata": {},
   "outputs": [
    {
     "data": {
      "text/html": [
       "<div>\n",
       "<style scoped>\n",
       "    .dataframe tbody tr th:only-of-type {\n",
       "        vertical-align: middle;\n",
       "    }\n",
       "\n",
       "    .dataframe tbody tr th {\n",
       "        vertical-align: top;\n",
       "    }\n",
       "\n",
       "    .dataframe thead th {\n",
       "        text-align: right;\n",
       "    }\n",
       "</style>\n",
       "<table border=\"1\" class=\"dataframe\">\n",
       "  <thead>\n",
       "    <tr style=\"text-align: right;\">\n",
       "      <th></th>\n",
       "      <th>title</th>\n",
       "      <th>text</th>\n",
       "      <th>authors</th>\n",
       "      <th>Topic label</th>\n",
       "      <th>url</th>\n",
       "      <th>publish_date</th>\n",
       "      <th>domain</th>\n",
       "      <th>label</th>\n",
       "    </tr>\n",
       "  </thead>\n",
       "  <tbody>\n",
       "    <tr>\n",
       "      <th>0</th>\n",
       "      <td>Resorts World Sentosa to retrench staff amid '...</td>\n",
       "      <td>SINGAPORE - Integrated resort operator Resorts...</td>\n",
       "      <td>['No Author']</td>\n",
       "      <td>COVID 19</td>\n",
       "      <td>https://www.straitstimes.com/singapore/manpowe...</td>\n",
       "      <td>07-15-2020</td>\n",
       "      <td>straitstimes.com</td>\n",
       "      <td>0.0</td>\n",
       "    </tr>\n",
       "    <tr>\n",
       "      <th>1</th>\n",
       "      <td>Australia's Victoria state ordering large part...</td>\n",
       "      <td>SYDNEY - The Australian state of Victoria is f...</td>\n",
       "      <td>['Jonathan Pearlman']</td>\n",
       "      <td>COVID 19</td>\n",
       "      <td>https://www.straitstimes.com/asia/australianz/...</td>\n",
       "      <td>08-03-2020</td>\n",
       "      <td>straitstimes.com</td>\n",
       "      <td>0.0</td>\n",
       "    </tr>\n",
       "    <tr>\n",
       "      <th>2</th>\n",
       "      <td>The Big Story: Travellers to S'pore to wear tr...</td>\n",
       "      <td>SINGAPORE - Catch up on the hottest topics on ...</td>\n",
       "      <td>['Hairianto Diman']</td>\n",
       "      <td>COVID 19</td>\n",
       "      <td>https://www.straitstimes.com/multimedia/the-bi...</td>\n",
       "      <td>08-03-2020</td>\n",
       "      <td>straitstimes.com</td>\n",
       "      <td>0.0</td>\n",
       "    </tr>\n",
       "    <tr>\n",
       "      <th>3</th>\n",
       "      <td>Trials for small-scale live performances amid ...</td>\n",
       "      <td>SINGAPORE - Small-scale live performances will...</td>\n",
       "      <td>['Ong Sor Fern']</td>\n",
       "      <td>COVID 19</td>\n",
       "      <td>https://www.straitstimes.com/lifestyle/arts/tr...</td>\n",
       "      <td>09-04-2020</td>\n",
       "      <td>straitstimes.com</td>\n",
       "      <td>0.0</td>\n",
       "    </tr>\n",
       "    <tr>\n",
       "      <th>4</th>\n",
       "      <td>Migrant workers move into Quick Build Dorms wi...</td>\n",
       "      <td>SINGAPORE - Migrant workers have started movin...</td>\n",
       "      <td>['No Author']</td>\n",
       "      <td>COVID 19</td>\n",
       "      <td>https://www.straitstimes.com/singapore/migrant...</td>\n",
       "      <td>10-11-2020</td>\n",
       "      <td>straitstimes.com</td>\n",
       "      <td>0.0</td>\n",
       "    </tr>\n",
       "  </tbody>\n",
       "</table>\n",
       "</div>"
      ],
      "text/plain": [
       "                                               title  \\\n",
       "0  Resorts World Sentosa to retrench staff amid '...   \n",
       "1  Australia's Victoria state ordering large part...   \n",
       "2  The Big Story: Travellers to S'pore to wear tr...   \n",
       "3  Trials for small-scale live performances amid ...   \n",
       "4  Migrant workers move into Quick Build Dorms wi...   \n",
       "\n",
       "                                                text                authors  \\\n",
       "0  SINGAPORE - Integrated resort operator Resorts...          ['No Author']   \n",
       "1  SYDNEY - The Australian state of Victoria is f...  ['Jonathan Pearlman']   \n",
       "2  SINGAPORE - Catch up on the hottest topics on ...    ['Hairianto Diman']   \n",
       "3  SINGAPORE - Small-scale live performances will...       ['Ong Sor Fern']   \n",
       "4  SINGAPORE - Migrant workers have started movin...          ['No Author']   \n",
       "\n",
       "  Topic label                                                url publish_date  \\\n",
       "0    COVID 19  https://www.straitstimes.com/singapore/manpowe...   07-15-2020   \n",
       "1    COVID 19  https://www.straitstimes.com/asia/australianz/...   08-03-2020   \n",
       "2    COVID 19  https://www.straitstimes.com/multimedia/the-bi...   08-03-2020   \n",
       "3    COVID 19  https://www.straitstimes.com/lifestyle/arts/tr...   09-04-2020   \n",
       "4    COVID 19  https://www.straitstimes.com/singapore/migrant...   10-11-2020   \n",
       "\n",
       "             domain  label  \n",
       "0  straitstimes.com    0.0  \n",
       "1  straitstimes.com    0.0  \n",
       "2  straitstimes.com    0.0  \n",
       "3  straitstimes.com    0.0  \n",
       "4  straitstimes.com    0.0  "
      ]
     },
     "execution_count": 5,
     "metadata": {},
     "output_type": "execute_result"
    }
   ],
   "source": [
    "train_data = pd.read_csv(\"../dev_train.csv\", index_col=0)\n",
    "train_data.head()"
   ]
  },
  {
   "cell_type": "code",
   "execution_count": 7,
   "id": "00308c7b",
   "metadata": {},
   "outputs": [
    {
     "data": {
      "text/plain": [
       "34424"
      ]
     },
     "execution_count": 7,
     "metadata": {},
     "output_type": "execute_result"
    }
   ],
   "source": [
    "len(train_data)  ## number of training samples in this csv"
   ]
  },
  {
   "cell_type": "markdown",
   "id": "7581ff7f",
   "metadata": {},
   "source": [
    "### Label 0 = human written, label 1 = machine generated"
   ]
  },
  {
   "cell_type": "markdown",
   "id": "19ff2168",
   "metadata": {},
   "source": [
    "## TODO: create 4 separate training data files:\n",
    "### text length 20, 80, 160, 256"
   ]
  },
  {
   "cell_type": "code",
   "execution_count": null,
   "id": "e2386c71",
   "metadata": {},
   "outputs": [],
   "source": []
  },
  {
   "cell_type": "code",
   "execution_count": null,
   "id": "d20bd100",
   "metadata": {},
   "outputs": [],
   "source": []
  },
  {
   "cell_type": "code",
   "execution_count": null,
   "id": "667ed20b",
   "metadata": {},
   "outputs": [],
   "source": []
  }
 ],
 "metadata": {
  "kernelspec": {
   "display_name": "Python 3 (ipykernel)",
   "language": "python",
   "name": "python3"
  },
  "language_info": {
   "codemirror_mode": {
    "name": "ipython",
    "version": 3
   },
   "file_extension": ".py",
   "mimetype": "text/x-python",
   "name": "python",
   "nbconvert_exporter": "python",
   "pygments_lexer": "ipython3",
   "version": "3.9.7"
  }
 },
 "nbformat": 4,
 "nbformat_minor": 5
}
